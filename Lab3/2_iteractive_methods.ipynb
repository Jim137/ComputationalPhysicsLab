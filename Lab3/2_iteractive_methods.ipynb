{
 "cells": [
  {
   "cell_type": "markdown",
   "metadata": {},
   "source": [
    "# Laplace Equation & Possion Equations\n",
    "\n",
    "In this Lab, we will learn how to numerically solve Laplace and Possion equations, which are common equations in electromagnestism and gravitational problems. "
   ]
  },
  {
   "attachments": {},
   "cell_type": "markdown",
   "metadata": {},
   "source": [
    "There should be two files under `./poisson_solver`.\\\n",
    "1. `mesh.py` handles the mesh grids we will used in this Lab.\\\n",
    "2. `solvers.py` handles all corresponding iterative solvers for Laplace/Poisson Equation. "
   ]
  },
  {
   "cell_type": "code",
   "execution_count": 1,
   "metadata": {},
   "outputs": [],
   "source": [
    "import numpy as np\n",
    "import numba as na\n",
    "import matplotlib.pyplot as plt\n",
    "from poisson_solver.mesh import Mesh2D\n",
    "from poisson_solver.solvers import *"
   ]
  },
  {
   "attachments": {},
   "cell_type": "markdown",
   "metadata": {},
   "source": [
    "## Exercise 4: Jacobi method\n",
    "\n",
    "1. Test your Mesh2D class to see if you could generate the grids we need for this calculation\n",
    "2. Implement the Jacobi meothd in `./poisson_solver/solver.py`.\n",
    "3. Write a function called `updata_boundary()` to update the boundary conditions.\\\n",
    "   Where to put this `update_boundary()` function is up to you.\\\n",
    "   You could put it either inside the `Mesh2D` class, in `solvers.py`, or here."
   ]
  },
  {
   "cell_type": "code",
   "execution_count": 5,
   "metadata": {},
   "outputs": [],
   "source": []
  },
  {
   "attachments": {},
   "cell_type": "markdown",
   "metadata": {},
   "source": [
    "### Visualize your results"
   ]
  },
  {
   "cell_type": "code",
   "execution_count": null,
   "metadata": {},
   "outputs": [],
   "source": []
  },
  {
   "attachments": {},
   "cell_type": "markdown",
   "metadata": {},
   "source": [
    "### Error convergence.\n",
    "\n",
    "To see how it converge, we could make a of Error vs. Iteration times to see how it converges."
   ]
  },
  {
   "cell_type": "code",
   "execution_count": null,
   "metadata": {},
   "outputs": [],
   "source": []
  },
  {
   "attachments": {},
   "cell_type": "markdown",
   "metadata": {},
   "source": [
    "## Exercise 5: Gauss-Seidel Meothd.\n",
    "\n",
    "1. Implement the Gauss-Seidel meothd in your solver.\n",
    "2. Repeat exercise 4. for the Gauss-Seidel meothd.\n",
    "3. Compare the error convergence between Jacobi and Gauss-Seidel"
   ]
  },
  {
   "cell_type": "code",
   "execution_count": null,
   "metadata": {},
   "outputs": [],
   "source": []
  },
  {
   "attachments": {},
   "cell_type": "markdown",
   "metadata": {},
   "source": [
    "## Exercise 6: Successive Over-Relaxation (SOR) method.\n",
    "\n",
    "1. Implment the SOR method in your solver.\n",
    "2. Repeart exercise 5 for the SOR method.\n",
    "3. Compare the error convergence with all other methods."
   ]
  },
  {
   "cell_type": "code",
   "execution_count": null,
   "metadata": {},
   "outputs": [],
   "source": []
  },
  {
   "attachments": {},
   "cell_type": "markdown",
   "metadata": {},
   "source": [
    "## Exercise 7: Extend your solver for calculating Poisson's Equation.\n",
    "\n",
    "1. Repeat exercise 3 for solving the Poisson's equation but use iteractive methods."
   ]
  },
  {
   "cell_type": "code",
   "execution_count": null,
   "metadata": {},
   "outputs": [],
   "source": []
  },
  {
   "cell_type": "markdown",
   "metadata": {},
   "source": [
    "# Multi-Grid Method"
   ]
  },
  {
   "cell_type": "code",
   "execution_count": null,
   "metadata": {},
   "outputs": [],
   "source": []
  }
 ],
 "metadata": {
  "kernelspec": {
   "display_name": "Python 3",
   "language": "python",
   "name": "python3"
  },
  "language_info": {
   "codemirror_mode": {
    "name": "ipython",
    "version": 3
   },
   "file_extension": ".py",
   "mimetype": "text/x-python",
   "name": "python",
   "nbconvert_exporter": "python",
   "pygments_lexer": "ipython3",
   "version": "3.9.6 (tags/v3.9.6:db3ff76, Jun 28 2021, 15:26:21) [MSC v.1929 64 bit (AMD64)]"
  },
  "orig_nbformat": 4,
  "vscode": {
   "interpreter": {
    "hash": "db466aede5edde01d2bb2b843a93b509a19109f32f5703edec56a69ee32b10ad"
   }
  }
 },
 "nbformat": 4,
 "nbformat_minor": 2
}
