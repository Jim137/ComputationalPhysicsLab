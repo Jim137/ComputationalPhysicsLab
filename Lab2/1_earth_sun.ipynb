{
 "cells": [
  {
   "cell_type": "code",
   "execution_count": 1,
   "metadata": {},
   "outputs": [],
   "source": [
    "import numpy as np\n",
    "import matplotlib.pyplot as plt\n",
    "import matplotlib.animation as animation\n",
    "from nbody import Particles, NbodySimulation"
   ]
  },
  {
   "cell_type": "markdown",
   "metadata": {},
   "source": [
    "# Sun-Earth System\n",
    "\n",
    "In this notebook, we will test our Solar System (Sun + Earth) simulation.\\\n",
    "For convenice, that's define the `problem_name` here for handling data IO."
   ]
  },
  {
   "cell_type": "code",
   "execution_count": 2,
   "metadata": {},
   "outputs": [],
   "source": [
    "problem_name = \"solar_earth\""
   ]
  },
  {
   "cell_type": "markdown",
   "metadata": {},
   "source": [
    "Prepare physical constants"
   ]
  },
  {
   "cell_type": "code",
   "execution_count": 3,
   "metadata": {},
   "outputs": [],
   "source": [
    "msun   = 1.989e33   # gram\n",
    "mearth = 5.97219e27 # gram\n",
    "au     = 1.496e13   # cm\n",
    "day    = 86400      # sec\n",
    "year   = 365*day    # sec\n",
    "G      = 6.67e-8   # cgs"
   ]
  },
  {
   "cell_type": "markdown",
   "metadata": {},
   "source": [
    "Re-implment the particle initialze condition of the Sun+Earth system. "
   ]
  },
  {
   "cell_type": "code",
   "execution_count": 4,
   "metadata": {},
   "outputs": [],
   "source": [
    "def initialSolarSystem(particles:Particles):\n",
    "    \"\"\"\n",
    "    initial Sun-Earth system\n",
    "    \"\"\"\n",
    "    particles.positions = np.array([[0,0,0], [au,0,0]])\n",
    "    particles.velocities = np.array([[0,0,0], [0,2*np.pi*au/(year),0]])\n",
    "    particles.masses = np.array([[msun], [mearth]])\n",
    "    force = G*msun*mearth/au**2\n",
    "    particles.accelerations = np.array([[force/msun,0,0], [-force/mearth,0,0]])\n",
    "    return particles"
   ]
  },
  {
   "cell_type": "markdown",
   "metadata": {},
   "source": [
    "Once we initialize the particles, we could run our simulation by"
   ]
  },
  {
   "cell_type": "code",
   "execution_count": null,
   "metadata": {},
   "outputs": [],
   "source": [
    "particles = initialSolarSystem(particles=Particles(N=2))\n",
    "sim = NbodySimulation(particles)\n",
    "sim.setup(G=G,method=\"RK4\",io_freq=20,io_title=problem_name,io_screen=False,visualized=False)\n",
    "sim.evolve(dt=0.1*day,tmax=5*year)"
   ]
  },
  {
   "cell_type": "code",
   "execution_count": 5,
   "metadata": {},
   "outputs": [
    {
     "name": "stdout",
     "output_type": "stream",
     "text": [
      "Done!\n",
      "Done!\n",
      "Done!\n",
      "Done!\n",
      "Done!\n",
      "Done!\n",
      "Done!\n",
      "Done!\n",
      "378 µs ± 57.9 µs per loop (mean ± std. dev. of 7 runs, 1 loop each)\n"
     ]
    }
   ],
   "source": [
    "particles = initialSolarSystem(particles=Particles(N=2))\n",
    "sim = NbodySimulation(particles)\n",
    "sim.setup(G=G,method=\"RK4\",io_freq=-1,io_title=problem_name,io_screen=False,visualized=False)\n",
    "%timeit sim.evolve(dt=0.1*day,tmax=5*year)"
   ]
  },
  {
   "cell_type": "markdown",
   "metadata": {},
   "source": [
    "# Load data and Visualization\n",
    "\n",
    "note: `conda install -c conda-forge ffmpeg` might be necessary"
   ]
  },
  {
   "cell_type": "code",
   "execution_count": null,
   "metadata": {},
   "outputs": [],
   "source": [
    "import glob"
   ]
  },
  {
   "cell_type": "code",
   "execution_count": null,
   "metadata": {},
   "outputs": [],
   "source": [
    "fns = \"data_\"+problem_name+\"/\"+\"[0-9][0-9][0-9][0-9][0-9].txt\"\n",
    "fns = glob.glob(fns)\n",
    "fns.sort()\n",
    "#print(fns) "
   ]
  },
  {
   "cell_type": "code",
   "execution_count": null,
   "metadata": {},
   "outputs": [],
   "source": [
    "scale = 2 * au\n",
    "\n",
    "fig, ax =plt.subplots()\n",
    "fig.set_size_inches(10.5, 10.5, forward=True)\n",
    "fig.set_dpi(72)\n",
    "ol,   = ax.plot([0,au],[0,0],'ro',alpha=0.3) # the initial conditions\n",
    "line, = ax.plot([],[],'o')                   # plots of particles\n",
    "\n",
    "def init():\n",
    "    ax.set_xlim(-scale,scale)\n",
    "    ax.set_ylim(-scale,scale)\n",
    "    ax.set_aspect('equal')\n",
    "    ax.set_xlabel('X [code unit]')\n",
    "    ax.set_ylabel('Y [code unit]')\n",
    "    return line,\n",
    "\n",
    "def updateParticles(frame):\n",
    "    fn = fns[frame]\n",
    "    t,m,x,y,z,vx,vy,vz,ax,ay,az = np.loadtxt(fn)\n",
    "    print(\"loadtxt done\",fn)\n",
    "    line.set_data(x,y)\n",
    "    return line,\n",
    "\n",
    "ani = animation.FuncAnimation(fig, updateParticles, frames=len(fns),init_func=init, blit=True)\n",
    "ani.save('movie_'+problem_name+'.mp4',fps=10)"
   ]
  },
  {
   "cell_type": "code",
   "execution_count": null,
   "metadata": {},
   "outputs": [],
   "source": []
  }
 ],
 "metadata": {
  "kernelspec": {
   "display_name": "Python 3.9.6 64-bit",
   "language": "python",
   "name": "python3"
  },
  "language_info": {
   "codemirror_mode": {
    "name": "ipython",
    "version": 3
   },
   "file_extension": ".py",
   "mimetype": "text/x-python",
   "name": "python",
   "nbconvert_exporter": "python",
   "pygments_lexer": "ipython3",
   "version": "3.9.6"
  },
  "orig_nbformat": 4,
  "vscode": {
   "interpreter": {
    "hash": "db466aede5edde01d2bb2b843a93b509a19109f32f5703edec56a69ee32b10ad"
   }
  }
 },
 "nbformat": 4,
 "nbformat_minor": 2
}
