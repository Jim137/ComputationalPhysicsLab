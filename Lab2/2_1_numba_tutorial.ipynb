{
 "cells": [
  {
   "cell_type": "markdown",
   "metadata": {},
   "source": [
    "# `Numba` Tutorial\n",
    "\n",
    "In this tutorial, we will learn how to use numba to speed up python loops.\n",
    "\n",
    "To intall conda, type `conda install numba`."
   ]
  },
  {
   "cell_type": "code",
   "execution_count": 1,
   "metadata": {},
   "outputs": [],
   "source": [
    "import numpy as np\n",
    "import numba as na\n",
    "from numba import jit, njit, prange, set_num_threads"
   ]
  },
  {
   "cell_type": "markdown",
   "metadata": {},
   "source": [
    "### 1. The Numba's JIT decorators, `@jit`.\n",
    "\n",
    "First, let's consider a nested loop in python.\\\n",
    "\n",
    "Nested loops are very common in any computational physics problems (i.e. the acceleration calculations in the n-body problem)."
   ]
  },
  {
   "cell_type": "code",
   "execution_count": 2,
   "metadata": {},
   "outputs": [],
   "source": [
    "def native_python(N):\n",
    "    value = 0\n",
    "    for _ in range(N):\n",
    "        for _ in range(N):\n",
    "            # some physical calculations, such as acceleration. \n",
    "            value += np.tanh(123)\n",
    "    return value"
   ]
  },
  {
   "cell_type": "code",
   "execution_count": 3,
   "metadata": {},
   "outputs": [],
   "source": [
    "test_size = 3000"
   ]
  },
  {
   "cell_type": "code",
   "execution_count": 4,
   "metadata": {},
   "outputs": [
    {
     "name": "stdout",
     "output_type": "stream",
     "text": [
      "38.1 s ± 874 ms per loop (mean ± std. dev. of 7 runs, 1 loop each)\n"
     ]
    }
   ],
   "source": [
    "%timeit ans = native_python(N=test_size)"
   ]
  },
  {
   "cell_type": "code",
   "execution_count": 5,
   "metadata": {},
   "outputs": [
    {
     "name": "stdout",
     "output_type": "stream",
     "text": [
      "9000000.0\n"
     ]
    }
   ],
   "source": [
    "ans1 = native_python(N=test_size)\n",
    "print(ans1)"
   ]
  },
  {
   "cell_type": "markdown",
   "metadata": {},
   "source": [
    "the above function takes ~6.43 s with `N=3000` (measured by Kuo-Chuan's desktop computer).\n",
    "\n",
    "In the above example, the calculation is simply adding np.tanh(123) N times. This is equivalent to"
   ]
  },
  {
   "cell_type": "code",
   "execution_count": 6,
   "metadata": {},
   "outputs": [],
   "source": [
    "ans2 = np.sum(np.tanh(123)*np.ones(test_size*test_size))"
   ]
  },
  {
   "cell_type": "code",
   "execution_count": 7,
   "metadata": {},
   "outputs": [
    {
     "name": "stdout",
     "output_type": "stream",
     "text": [
      "True\n"
     ]
    }
   ],
   "source": [
    "print(ans1==ans2)"
   ]
  },
  {
   "cell_type": "code",
   "execution_count": 8,
   "metadata": {},
   "outputs": [
    {
     "name": "stdout",
     "output_type": "stream",
     "text": [
      "79.5 ms ± 2.14 ms per loop (mean ± std. dev. of 7 runs, 10 loops each)\n"
     ]
    }
   ],
   "source": [
    "%timeit np.sum(np.tanh(123)*np.ones(test_size**2))"
   ]
  },
  {
   "cell_type": "markdown",
   "metadata": {},
   "source": [
    "the same calculation takes only 19.5 ms with `np.sum()` (x330 speedup).\n",
    "\n",
    "In eariler lecutres, we have learned that we should use `numpy` and `scipy` to avoid using loops in native python.\\\n",
    "However, it is possible that the calculations inside the for loops cannot find counter part calculations in `numpy` and `scipy` (or not straightforward). \n",
    "\n",
    "Numba's Just-in-time (JIT) decoraators is one good solution.\n"
   ]
  },
  {
   "cell_type": "code",
   "execution_count": 9,
   "metadata": {},
   "outputs": [],
   "source": [
    "@jit(nopython=True)\n",
    "def numba_jit(N):\n",
    "    value = 0\n",
    "    for _ in range(N):\n",
    "        for _ in range(N):\n",
    "            value += np.tanh(123)\n",
    "    return value"
   ]
  },
  {
   "cell_type": "code",
   "execution_count": 10,
   "metadata": {},
   "outputs": [
    {
     "name": "stdout",
     "output_type": "stream",
     "text": [
      "9000000.0\n",
      "True\n"
     ]
    }
   ],
   "source": [
    "ans3 = numba_jit(N=test_size)\n",
    "print(ans3)\n",
    "print(ans1==ans3)"
   ]
  },
  {
   "cell_type": "code",
   "execution_count": 11,
   "metadata": {},
   "outputs": [
    {
     "name": "stdout",
     "output_type": "stream",
     "text": [
      "22.1 ms ± 708 µs per loop (mean ± std. dev. of 7 runs, 10 loops each)\n"
     ]
    }
   ],
   "source": [
    "%timeit ans = numba_jit(N=test_size)"
   ]
  },
  {
   "cell_type": "markdown",
   "metadata": {},
   "source": [
    "With `jit`, it takes 6.47 ms now by just adding one line of code!\n",
    "Note that the performance could be still a bottle neck when `test_size` is big."
   ]
  },
  {
   "cell_type": "code",
   "execution_count": 12,
   "metadata": {},
   "outputs": [
    {
     "name": "stdout",
     "output_type": "stream",
     "text": [
      "2.11 s ± 40.1 ms per loop (mean ± std. dev. of 7 runs, 1 loop each)\n"
     ]
    }
   ],
   "source": [
    "%timeit ans = numba_jit(N=(test_size*10))"
   ]
  },
  {
   "cell_type": "markdown",
   "metadata": {},
   "source": [
    "The calculation times increased with N^2.\n",
    "\n",
    "We could actually further improve it with `njit` and `prange`."
   ]
  },
  {
   "cell_type": "code",
   "execution_count": 13,
   "metadata": {},
   "outputs": [],
   "source": [
    "@njit(parallel=True)\n",
    "def numba_njit_parallel(N):\n",
    "    value = 0\n",
    "    for i in prange(N):\n",
    "        for j in prange(N):\n",
    "            value += np.tanh(123)\n",
    "    return value"
   ]
  },
  {
   "cell_type": "markdown",
   "metadata": {},
   "source": [
    "note that in the above example, we could not use `for _ in prange(N)`, becasue `_` is not recognitzed by numba in parallel computing. "
   ]
  },
  {
   "cell_type": "code",
   "execution_count": 14,
   "metadata": {},
   "outputs": [
    {
     "name": "stdout",
     "output_type": "stream",
     "text": [
      "True\n"
     ]
    }
   ],
   "source": [
    "ans4 = numba_njit_parallel(N=test_size)\n",
    "print(ans1==ans4)"
   ]
  },
  {
   "cell_type": "code",
   "execution_count": 21,
   "metadata": {},
   "outputs": [],
   "source": [
    "set_num_threads(4)"
   ]
  },
  {
   "cell_type": "code",
   "execution_count": 22,
   "metadata": {},
   "outputs": [
    {
     "name": "stdout",
     "output_type": "stream",
     "text": [
      "337 ms ± 93.3 ms per loop (mean ± std. dev. of 7 runs, 1 loop each)\n"
     ]
    }
   ],
   "source": [
    "%timeit ans = numba_njit_parallel(N=(test_size*10))"
   ]
  },
  {
   "cell_type": "markdown",
   "metadata": {},
   "source": [
    "It took 161 ms with 4 threads (x4 speedup)."
   ]
  },
  {
   "cell_type": "markdown",
   "metadata": {},
   "source": [
    "# Exercise\n",
    "\n",
    "## Exercise 1: Use numba `jit` and `njit` to speedup the Pi calculation. \n",
    "\n",
    "Compare your solutions with `numpy`."
   ]
  },
  {
   "cell_type": "code",
   "execution_count": 25,
   "metadata": {},
   "outputs": [],
   "source": [
    "def pi_calculation(n):\n",
    "    dn = 1.0 / n\n",
    "    x = np.arange(0.0, 1.0, dn)\n",
    "    y = np.sqrt(1.0 - x**2)\n",
    "    return 4.0 * np.sum(y) * dn\n",
    "\n",
    "@jit(nopython=True)\n",
    "def pi_calculation_jit(n):\n",
    "    dn = 1.0 / n\n",
    "    x = np.arange(0.0, 1.0, dn)\n",
    "    y = np.sqrt(1.0 - x**2)\n",
    "    ans = 0\n",
    "    for i in range(n):\n",
    "        ans += y[i]\n",
    "    return 4.0 * ans * dn\n",
    "\n",
    "@njit(parallel=True)\n",
    "def pi_calculation_njit(n):\n",
    "    dn = 1.0 / n\n",
    "    x = np.arange(0.0, 1.0, dn)\n",
    "    y = np.sqrt(1.0 - x**2)\n",
    "    ans = 0\n",
    "    for i in prange(n):\n",
    "        ans += y[i]\n",
    "    return 4.0 * ans * dn"
   ]
  },
  {
   "cell_type": "code",
   "execution_count": 26,
   "metadata": {},
   "outputs": [
    {
     "name": "stdout",
     "output_type": "stream",
     "text": [
      "21.7 ms ± 1.25 ms per loop (mean ± std. dev. of 7 runs, 10 loops each)\n",
      "11.3 ms ± 341 µs per loop (mean ± std. dev. of 7 runs, 1 loop each)\n",
      "5.9 ms ± 1.91 ms per loop (mean ± std. dev. of 7 runs, 1 loop each)\n"
     ]
    }
   ],
   "source": [
    "%timeit pi_calculation(1000000)\n",
    "%timeit pi_calculation_jit(1000000)\n",
    "\n",
    "set_num_threads(12)\n",
    "%timeit pi_calculation_njit(1000000)"
   ]
  },
  {
   "cell_type": "markdown",
   "metadata": {},
   "source": [
    "## Exercise 2: Speedup your N-body solver.\n",
    "\n",
    "Now, move back to `2_nbody.ipynb`. Let's speed up our `nbody.py` solver with numba."
   ]
  }
 ],
 "metadata": {
  "kernelspec": {
   "display_name": "Python 3.9.6 64-bit",
   "language": "python",
   "name": "python3"
  },
  "language_info": {
   "codemirror_mode": {
    "name": "ipython",
    "version": 3
   },
   "file_extension": ".py",
   "mimetype": "text/x-python",
   "name": "python",
   "nbconvert_exporter": "python",
   "pygments_lexer": "ipython3",
   "version": "3.9.6"
  },
  "orig_nbformat": 4,
  "vscode": {
   "interpreter": {
    "hash": "db466aede5edde01d2bb2b843a93b509a19109f32f5703edec56a69ee32b10ad"
   }
  }
 },
 "nbformat": 4,
 "nbformat_minor": 2
}
