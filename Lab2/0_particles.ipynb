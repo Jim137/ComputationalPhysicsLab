{
 "cells": [
  {
   "cell_type": "code",
   "execution_count": null,
   "metadata": {},
   "outputs": [],
   "source": [
    "import numpy as np\n",
    "import matplotlib.pyplot as plt\n",
    "from nbody import Particles"
   ]
  },
  {
   "cell_type": "markdown",
   "metadata": {},
   "source": [
    "# The Particles class\n",
    "\n",
    "We could use it to handle the particle information.\n",
    "\n",
    "The class contains several properties, including tag, mass, position, velocity, acceleration, and time.\n",
    "\n",
    "For our own convenience, we want to the below data type to handle the N-body simulation:"
   ]
  },
  {
   "cell_type": "code",
   "execution_count": null,
   "metadata": {},
   "outputs": [],
   "source": [
    "time          = 0    # the starting  time\n",
    "num_particles = 100  # number of particles\n",
    "masses        = np.ones((num_particles,1))\n",
    "positions     = np.zeros((num_particles,3)) # 3 directions\n",
    "velocities    = np.zeros((num_particles,3))\n",
    "accelerations = np.zeros((num_particles,3))\n",
    "tags          = np.linspace(1,num_particles,num_particles)"
   ]
  },
  {
   "cell_type": "markdown",
   "metadata": {},
   "source": [
    "Note that, the mass is setting to a Nx1 martrix.\\\n",
    "The reason to use Nx1 matrix but not a numpy array is because mass x velcoity is the momentum\\\n",
    "and only Nx1 matrix could multiple with an Nx3 matrix. "
   ]
  },
  {
   "cell_type": "markdown",
   "metadata": {},
   "source": [
    "We hope that could initialze particles by typing the below code.\\\n",
    "The particle class with prepare empty arrays and matrix for later on setup."
   ]
  },
  {
   "cell_type": "code",
   "execution_count": null,
   "metadata": {},
   "outputs": [],
   "source": [
    "particles = Particles(N=num_particles)"
   ]
  },
  {
   "cell_type": "markdown",
   "metadata": {},
   "source": [
    "The `Particles` class should handle the below APIs to setup particles"
   ]
  },
  {
   "cell_type": "code",
   "execution_count": null,
   "metadata": {},
   "outputs": [],
   "source": [
    "particles.masses = masses\n",
    "particles.positions = positions\n",
    "particles.velocities = velocities\n",
    "particles.accelerations = accelerations\n",
    "particles.tags = tags"
   ]
  },
  {
   "cell_type": "markdown",
   "metadata": {},
   "source": [
    "The `Particles` class should have the below APIs to get particle properties."
   ]
  },
  {
   "cell_type": "code",
   "execution_count": null,
   "metadata": {},
   "outputs": [],
   "source": [
    "tags          = particles.tags\n",
    "masses        = particles.masses\n",
    "positions     = particles.positions\n",
    "velocities    = particles.velocities\n",
    "accelerations = particles.accelerations"
   ]
  },
  {
   "cell_type": "markdown",
   "metadata": {},
   "source": [
    "We could also dump the particle information into a text file."
   ]
  },
  {
   "cell_type": "code",
   "execution_count": null,
   "metadata": {},
   "outputs": [],
   "source": [
    "particles.output(fn=\"data_particles.txt\",time=time)"
   ]
  },
  {
   "cell_type": "markdown",
   "metadata": {},
   "source": [
    "The saved data could be loaded by `numpy.loadtxt`."
   ]
  },
  {
   "cell_type": "code",
   "execution_count": null,
   "metadata": {},
   "outputs": [],
   "source": [
    "t,m,x,y,z,vx,vy,vz,ax,ay,az = np.loadtxt(\"data_particles.txt\")"
   ]
  },
  {
   "cell_type": "markdown",
   "metadata": {},
   "source": [
    "## Exercise 1.\n",
    "\n",
    "Implement the `Particles` class in `nbody.py`\\\n",
    "make sure your `Particles` can handle all above functions correctly."
   ]
  },
  {
   "cell_type": "markdown",
   "metadata": {},
   "source": [
    "## Exercie 2.\n",
    "\n",
    "Once you have the `Particles` class implmented correctly.\\\n",
    "You should be able to use it to initialzie arbitry distribution of N particles.\n",
    "\n",
    "(1) Initialize two particles that describe the Sun-Earth binary system.\n",
    "\n",
    "(2) Initialize a 3D particle clould with N particles in a normal distrbuiotn (sigma=1) and total mass equal to 10.\n",
    "\n",
    "Hints: use `numpy.random.randn` (see https://numpy.org/doc/stable/reference/random/generated/numpy.random.randn.html). "
   ]
  },
  {
   "cell_type": "code",
   "execution_count": null,
   "metadata": {},
   "outputs": [],
   "source": [
    "# TODO:\n",
    "def initial_SolarSystem():\n",
    "    \"\"\"\n",
    "    Create a Particles object with the initial conditions for the Solar System.\n",
    "    \"\"\"\n",
    "    particles = Particles(N=2)\n",
    "    particles.masses = np.array([[1.989e30],[5.972e24]])\n",
    "    speration = 1.496e11\n",
    "    xsun = -particles.masses[1]/np.sum(particles.masses)*speration\n",
    "    xearth = particles.masses[0]/np.sum(particles.masses)*speration\n",
    "    particles.positions = np.array([[xsun,0,0],[xearth,0,0]],dtype=object)\n",
    "    vsun = 2*np.pi*xsun/(365.25*24*3600)\n",
    "    vearth = -2*np.pi*xearth/(365.25*24*3600)\n",
    "    particles.velocities = np.array([[0,vsun,0],[0,vearth,0]],dtype=object)\n",
    "    force = 6.674e-11*particles.masses[0]*particles.masses[1]/(xearth-xsun)**2\n",
    "    asun = force/particles.masses[0]\n",
    "    aearth = -force/particles.masses[1]\n",
    "    particles.accelerations = np.array([[asun,0,0],[aearth,0,0]],dtype=object)\n",
    "    particles.tags = np.array([[1],[2]])\n",
    "    return particles"
   ]
  },
  {
   "cell_type": "code",
   "execution_count": null,
   "metadata": {},
   "outputs": [],
   "source": [
    "# TODO:\n",
    "def initial_NormalDistribution(N:int=100, amp:float=1, sig:float=1):\n",
    "    \"\"\"\n",
    "    Create a Particles object with the initial conditions for 3D particle cloud.\n",
    "    \"\"\"\n",
    "    particles = Particles(N)\n",
    "    particles.masses = 10/N*np.ones((N,1))\n",
    "    particles.positions = amp*np.random.normal(0,sig,(N,3))\n",
    "    particles.velocities = amp*np.random.normal(0,sig,(N,3))\n",
    "    # Make the velocities of center of mass zero\n",
    "    particles.velocities = particles.velocities - particles.masses*particles.velocities/np.sum(particles.masses)\n",
    "    particles.accelerations = np.zeros((N,3))\n",
    "    return particles"
   ]
  },
  {
   "cell_type": "markdown",
   "metadata": {},
   "source": [
    "### Visualzie your particles\n",
    "\n",
    "Please visualzie the particles you asigned in the previous exercise. \n",
    "\n",
    "(a) Make a 2D projected plot on the x-y plane. \n",
    "\n",
    "(b) Make a 3D distribution of your particles."
   ]
  },
  {
   "cell_type": "code",
   "execution_count": null,
   "metadata": {},
   "outputs": [],
   "source": [
    "#TODO: visualzie your particles\n",
    "plt.figure()\n",
    "binary = initial_SolarSystem()\n",
    "plt.plot(binary.positions[:,0],binary.positions[:,1],'o')"
   ]
  },
  {
   "cell_type": "code",
   "execution_count": null,
   "metadata": {},
   "outputs": [],
   "source": [
    "fig = plt.figure()\n",
    "N = 1000\n",
    "ax = fig.add_subplot(projection='3d')\n",
    "normal = initial_NormalDistribution(N)\n",
    "for i in range(N):\n",
    "    ax.scatter(normal.positions[i,0],normal.positions[i,1],normal.positions[i,2],s=1)"
   ]
  },
  {
   "cell_type": "markdown",
   "metadata": {},
   "source": [
    "## Use `@property` \n",
    "\n",
    "We could actually use python's `@property` to replace the getter and setter in `Particles` class.\\\n",
    "\n",
    "For example,"
   ]
  },
  {
   "cell_type": "code",
   "execution_count": null,
   "metadata": {},
   "outputs": [],
   "source": [
    "class foo:\n",
    "    def __init__(self):\n",
    "        self._x = 0\n",
    "        return\n",
    "    def get_x(self):\n",
    "        return self._x\n",
    "    def set_x(self, value):\n",
    "        self._x = value\n",
    "        return"
   ]
  },
  {
   "cell_type": "code",
   "execution_count": null,
   "metadata": {},
   "outputs": [],
   "source": [
    "a = foo()\n",
    "a.x = 3\n",
    "value = a.x\n",
    "print(value)"
   ]
  },
  {
   "cell_type": "markdown",
   "metadata": {},
   "source": [
    "The above code is equivalent to"
   ]
  },
  {
   "cell_type": "code",
   "execution_count": null,
   "metadata": {},
   "outputs": [],
   "source": [
    "class foo2:\n",
    "    def __init__(self):\n",
    "        self._x = 0\n",
    "        return\n",
    "    @property\n",
    "    def x(self):\n",
    "        return self._x\n",
    "\n",
    "    @x.setter\n",
    "    def x(self, value):\n",
    "        self._x = value\n",
    "        return"
   ]
  },
  {
   "cell_type": "code",
   "execution_count": null,
   "metadata": {},
   "outputs": [],
   "source": [
    "a = foo2()\n",
    "a.x = 3\n",
    "value = a.x\n",
    "print(value)"
   ]
  },
  {
   "cell_type": "code",
   "execution_count": null,
   "metadata": {},
   "outputs": [],
   "source": []
  }
 ],
 "metadata": {
  "kernelspec": {
   "display_name": "Python 3.9.6 64-bit",
   "language": "python",
   "name": "python3"
  },
  "language_info": {
   "codemirror_mode": {
    "name": "ipython",
    "version": 3
   },
   "file_extension": ".py",
   "mimetype": "text/x-python",
   "name": "python",
   "nbconvert_exporter": "python",
   "pygments_lexer": "ipython3",
   "version": "3.9.6"
  },
  "orig_nbformat": 4,
  "vscode": {
   "interpreter": {
    "hash": "db466aede5edde01d2bb2b843a93b509a19109f32f5703edec56a69ee32b10ad"
   }
  }
 },
 "nbformat": 4,
 "nbformat_minor": 2
}
