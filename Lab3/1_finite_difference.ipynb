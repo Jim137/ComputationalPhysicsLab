{
 "cells": [
  {
   "cell_type": "markdown",
   "metadata": {},
   "source": [
    "# Finite Difference method for solving discrete Laplace Equation\n",
    "\n",
    "### Exercise 1: solve the 4x4 linear equation A.x = b"
   ]
  },
  {
   "cell_type": "markdown",
   "metadata": {},
   "source": [
    "`4*u[i,j] - u[i-1,j] - u[i+1,j] - u[i,j-1] - u[i,j+1] = 0`\n",
    "\n",
    "Dervie and solve the linear system A.x =b"
   ]
  },
  {
   "cell_type": "markdown",
   "metadata": {},
   "source": [
    "REF: https://docs.scipy.org/doc/scipy/reference/generated/scipy.linalg.solve.html#scipy.linalg.solve"
   ]
  },
  {
   "cell_type": "code",
   "execution_count": 1,
   "metadata": {},
   "outputs": [],
   "source": [
    "import numpy as np\n",
    "from scipy import linalg"
   ]
  },
  {
   "cell_type": "code",
   "execution_count": 3,
   "metadata": {},
   "outputs": [
    {
     "data": {
      "text/plain": [
       "array([0.125, 0.125, 0.375, 0.375])"
      ]
     },
     "execution_count": 3,
     "metadata": {},
     "output_type": "execute_result"
    }
   ],
   "source": [
    "a = np.array([[4,-1,-1,0], [-1,4,0,-1], [-1,0,4,-1],[0,-1,-1,4]])\n",
    "b = np.array([0,0,1,1])\n",
    "linalg.solve(a,b)"
   ]
  },
  {
   "cell_type": "markdown",
   "metadata": {},
   "source": [
    "### Exercise 2: arbitrary size of the matrix."
   ]
  },
  {
   "cell_type": "markdown",
   "metadata": {},
   "source": [
    "If we want our solve could sovle an arbitrary size of the system NxN in 2D.\\\n",
    "First, we need to generate the left-hand matrix. \\\n",
    "The left-hand matrix contains two components: One is an diagnoal matrix with only three banded values.\\\n",
    "The other component conatins negative identity matrice.\\\n",
    "\n",
    "we could use the `dia_matrix` in `scipy.sparse` and `np.identity()` for these components.\n",
    "\n",
    "REF: https://docs.scipy.org/doc/scipy/reference/sparse.html"
   ]
  },
  {
   "cell_type": "code",
   "execution_count": 2,
   "metadata": {},
   "outputs": [],
   "source": [
    "import numpy as np\n",
    "from scipy.sparse import diags\n",
    "from numba import jit, njit, prange, set_num_threads, get_num_threads"
   ]
  },
  {
   "cell_type": "markdown",
   "metadata": {},
   "source": [
    "Part 1: \n",
    "\n",
    "Write a function to generate the matrxi A with arbitrary size N.\n",
    "\n",
    "Hints: depedning on your implmentation, you might want to use `numba` to speed it up."
   ]
  },
  {
   "cell_type": "code",
   "execution_count": 59,
   "metadata": {},
   "outputs": [
    {
     "name": "stdout",
     "output_type": "stream",
     "text": [
      "[[ 4 -1  0  0 -1  0  0  0  0  0  0  0  0  0  0  0]\n",
      " [-1  4 -1  0  0 -1  0  0  0  0  0  0  0  0  0  0]\n",
      " [ 0 -1  4 -1  0  0 -1  0  0  0  0  0  0  0  0  0]\n",
      " [ 0  0 -1  4  0  0  0 -1  0  0  0  0  0  0  0  0]\n",
      " [-1  0  0  0  4 -1  0  0 -1  0  0  0  0  0  0  0]\n",
      " [ 0 -1  0  0 -1  4 -1  0  0 -1  0  0  0  0  0  0]\n",
      " [ 0  0 -1  0  0 -1  4 -1  0  0 -1  0  0  0  0  0]\n",
      " [ 0  0  0 -1  0  0 -1  4  0  0  0 -1  0  0  0  0]\n",
      " [ 0  0  0  0 -1  0  0  0  4 -1  0  0 -1  0  0  0]\n",
      " [ 0  0  0  0  0 -1  0  0 -1  4 -1  0  0 -1  0  0]\n",
      " [ 0  0  0  0  0  0 -1  0  0 -1  4 -1  0  0 -1  0]\n",
      " [ 0  0  0  0  0  0  0 -1  0  0 -1  4  0  0  0 -1]\n",
      " [ 0  0  0  0  0  0  0  0 -1  0  0  0  4 -1  0  0]\n",
      " [ 0  0  0  0  0  0  0  0  0 -1  0  0 -1  4 -1  0]\n",
      " [ 0  0  0  0  0  0  0  0  0  0 -1  0  0 -1  4 -1]\n",
      " [ 0  0  0  0  0  0  0  0  0  0  0 -1  0  0 -1  4]]\n"
     ]
    }
   ],
   "source": [
    "def a_mat(n):\n",
    "    if n ==1: return print(\"n must be greater than 1\")\n",
    "    N = n*n\n",
    "    d0 = 4*np.ones(N)\n",
    "    dp1 = -1*np.ones(n)\n",
    "    dp1[-1] = 0\n",
    "    dp1 = np.tile(dp1, n)\n",
    "    dm1 = -1*np.ones(n)\n",
    "    dm1[-1] = 0\n",
    "    dm1 = np.tile(dm1, n)\n",
    "    dp4 = -1*np.ones(N-n)\n",
    "    dm4 = -1*np.ones(N-n)\n",
    "    d = [d0, dp1, dm1, dp4, dm4]\n",
    "    offsets = [0, 1, -1, n, -n]\n",
    "    return diags(d, offsets, dtype=np.int8).toarray()\n",
    "\n",
    "print(a_mat(4))"
   ]
  },
  {
   "cell_type": "markdown",
   "metadata": {},
   "source": [
    "Part2:\n",
    "\n",
    "The right hand side of the lienar equation is a vecotr.\\\n",
    "generate a vecotr is simple with `np.array()`"
   ]
  },
  {
   "cell_type": "code",
   "execution_count": 69,
   "metadata": {},
   "outputs": [
    {
     "name": "stdout",
     "output_type": "stream",
     "text": [
      "[0. 0. 1. 1.]\n"
     ]
    }
   ],
   "source": [
    "def b_vec(n):\n",
    "    if n ==1: return print(\"n must be greater than 1\")\n",
    "    N = n*n\n",
    "    b = np.zeros(N)\n",
    "    for i in range(n):\n",
    "        b[-i-1] = 1\n",
    "    return b\n",
    "\n",
    "print(b_vec(2))"
   ]
  },
  {
   "cell_type": "markdown",
   "metadata": {},
   "source": [
    "Part 3:\n",
    "\n",
    "Once we have the linear problem `A x = b`, we could solve the system with `scipy.linalg.solve` \n",
    "\n",
    "REF: https://docs.scipy.org/doc/scipy/reference/generated/scipy.linalg.solve.html#scipy.linalg.solve"
   ]
  },
  {
   "cell_type": "code",
   "execution_count": 3,
   "metadata": {},
   "outputs": [],
   "source": [
    "from scipy import linalg"
   ]
  },
  {
   "cell_type": "code",
   "execution_count": 65,
   "metadata": {},
   "outputs": [
    {
     "data": {
      "text/plain": [
       "array([0.04545455, 0.0719697 , 0.0719697 , 0.04545455, 0.10984848,\n",
       "       0.17045455, 0.17045455, 0.10984848, 0.22348485, 0.32954545,\n",
       "       0.32954545, 0.22348485, 0.45454545, 0.59469697, 0.59469697,\n",
       "       0.45454545])"
      ]
     },
     "execution_count": 65,
     "metadata": {},
     "output_type": "execute_result"
    }
   ],
   "source": [
    "linalg.solve(a_mat(4), b_vec(4))"
   ]
  },
  {
   "cell_type": "markdown",
   "metadata": {},
   "source": [
    "Part 4:\n",
    "\n",
    "Once we have the solution, we should convert the solution vector to the finite difference grids `u[i,j]`."
   ]
  },
  {
   "cell_type": "code",
   "execution_count": 70,
   "metadata": {},
   "outputs": [],
   "source": [
    "def u_grids(n):\n",
    "    if n ==1: return print(\"n must be greater than 1\")\n",
    "    return linalg.solve(a_mat(n), b_vec(n)).reshape(n,n)"
   ]
  },
  {
   "cell_type": "markdown",
   "metadata": {},
   "source": [
    "Part 5:\n",
    "\n",
    "Now, let's visualize the solution with `matplotlib`"
   ]
  },
  {
   "cell_type": "code",
   "execution_count": 4,
   "metadata": {},
   "outputs": [],
   "source": [
    "import matplotlib.pyplot as plt"
   ]
  },
  {
   "cell_type": "code",
   "execution_count": 73,
   "metadata": {},
   "outputs": [
    {
     "data": {
      "text/plain": [
       "<matplotlib.image.AxesImage at 0x1b11619bee0>"
      ]
     },
     "execution_count": 73,
     "metadata": {},
     "output_type": "execute_result"
    },
    {
     "data": {
      "image/png": "[encoded data removed]",
      "text/plain": [
       "<Figure size 432x288 with 1 Axes>"
      ]
     },
     "metadata": {
      "needs_background": "light"
     },
     "output_type": "display_data"
    }
   ],
   "source": [
    "plt.imshow(u_grids(4))"
   ]
  },
  {
   "cell_type": "markdown",
   "metadata": {},
   "source": [
    "Part 6:\n",
    "\n",
    "Now we have tested our code, we could write a \"solver\" function to wrap all necessary codes.\\\n",
    "This solver function could be either in the notebook or in a seperate python file."
   ]
  },
  {
   "cell_type": "code",
   "execution_count": 5,
   "metadata": {},
   "outputs": [],
   "source": [
    "def solver(n:int):\n",
    "    if n <=1: return print(\"n must be greater than 1\")\n",
    "\n",
    "    N = n*n\n",
    "    \n",
    "    d0 = 4*np.ones(N)\n",
    "    dp1 = -1*np.ones(n)\n",
    "    dp1[-1] = 0\n",
    "    dp1 = np.tile(dp1, n)\n",
    "    dm1 = -1*np.ones(n)\n",
    "    dm1[-1] = 0\n",
    "    dm1 = np.tile(dm1, n)\n",
    "    dpn = -1*np.ones(N-n)\n",
    "    dmn = -1*np.ones(N-n)\n",
    "    d = [d0, dp1, dm1, dpn, dmn]\n",
    "    offsets = [0, 1, -1, n, -n]\n",
    "    a = diags(d, offsets, dtype=np.int8).toarray()\n",
    "\n",
    "    b = np.zeros(N)\n",
    "    for i in range(n):\n",
    "        b[-i-1] = 1\n",
    "\n",
    "    return linalg.solve(a, b).reshape(n,n)\n",
    "    "
   ]
  },
  {
   "cell_type": "markdown",
   "metadata": {},
   "source": [
    "Part 7:\n",
    "\n",
    "The buttole neck of this solver is in the `linalg.solve()`.\\\n",
    "Let's measure the performance of `linalg.solve()` with different resolutions."
   ]
  },
  {
   "cell_type": "code",
   "execution_count": 7,
   "metadata": {},
   "outputs": [],
   "source": [
    "import time"
   ]
  },
  {
   "cell_type": "code",
   "execution_count": 86,
   "metadata": {},
   "outputs": [
    {
     "name": "stdout",
     "output_type": "stream",
     "text": [
      "0.3636753559112549\n"
     ]
    }
   ],
   "source": [
    "time_start = time.time()\n",
    "solver(10)\n",
    "time_end = time.time()\n",
    "print(time_end-time_start)"
   ]
  },
  {
   "cell_type": "code",
   "execution_count": 78,
   "metadata": {},
   "outputs": [
    {
     "name": "stdout",
     "output_type": "stream",
     "text": [
      "The slowest run took 4.56 times longer than the fastest. This could mean that an intermediate result is being cached.\n",
      "68.9 ms ± 41.3 ms per loop (mean ± std. dev. of 7 runs, 1 loop each)\n"
     ]
    }
   ],
   "source": [
    "%timeit solver(10)"
   ]
  },
  {
   "cell_type": "markdown",
   "metadata": {},
   "source": [
    "Part 8:\n",
    "\n",
    "Plot Computing time vs N in log-log scale."
   ]
  },
  {
   "cell_type": "code",
   "execution_count": 100,
   "metadata": {},
   "outputs": [
    {
     "data": {
      "text/plain": [
       "[<matplotlib.lines.Line2D at 0x1b11779f0d0>]"
      ]
     },
     "execution_count": 100,
     "metadata": {},
     "output_type": "execute_result"
    },
    {
     "data": {
      "image/png": "[encoded data removed]",
      "text/plain": [
       "<Figure size 432x288 with 2 Axes>"
      ]
     },
     "metadata": {
      "needs_background": "light"
     },
     "output_type": "display_data"
    }
   ],
   "source": [
    "t = np.zeros(100)\n",
    "for i in range(100):\n",
    "    if i <= 1: continue\n",
    "    time_start = time.time()\n",
    "    solver(i)\n",
    "    time_end = time.time()\n",
    "    t[i] = time_end-time_start\n",
    "plt.figure()\n",
    "ax1 = plt.subplot(2, 1, 1)\n",
    "ax1.plot(range(100),t)\n",
    "ax2 = plt.subplot(2, 1, 2)\n",
    "ax2.loglog(range(100),t)"
   ]
  },
  {
   "cell_type": "code",
   "execution_count": 11,
   "metadata": {},
   "outputs": [
    {
     "data": {
      "text/plain": [
       "[<matplotlib.lines.Line2D at 0x1f483406af0>]"
      ]
     },
     "execution_count": 11,
     "metadata": {},
     "output_type": "execute_result"
    },
    {
     "data": {
      "image/png": "[encoded data removed]",
      "text/plain": [
       "<Figure size 432x288 with 1 Axes>"
      ]
     },
     "metadata": {
      "needs_background": "light"
     },
     "output_type": "display_data"
    }
   ],
   "source": [
    "res = [8, 16, 32, 64, 128]\n",
    "t_res = np.zeros(len(res))\n",
    "\n",
    "i = 0\n",
    "for r in res:\n",
    "    time_start = time.time()\n",
    "    solver(r)\n",
    "    time_end = time.time()\n",
    "    t_res[i] = time_end-time_start\n",
    "    i += 1\n",
    "\n",
    "plt.loglog(res,t_res)"
   ]
  },
  {
   "cell_type": "markdown",
   "metadata": {},
   "source": [
    "You could see that the perofmance is propotional to `N^5`!\\\n",
    "This is becasue the size of the matrix A is proportional to `N^2` and\\\n",
    "the calculation time of `linalg.solve(M,b)` is proportial to the cubic of the size of M, N^3,\\\n",
    "giving `N^5` at the end."
   ]
  },
  {
   "cell_type": "markdown",
   "metadata": {},
   "source": [
    "The `scipy.linalg.solve` is robust, but since the matrix A is a sparse matrix, we could use special method to solve it.\n",
    "\n",
    "REF: https://docs.scipy.org/doc/scipy/reference/generated/scipy.sparse.linalg.spsolve.html"
   ]
  },
  {
   "cell_type": "code",
   "execution_count": 13,
   "metadata": {},
   "outputs": [],
   "source": [
    "from scipy.sparse import csc_matrix\n",
    "import scipy.sparse.linalg as splinalg"
   ]
  },
  {
   "cell_type": "code",
   "execution_count": 14,
   "metadata": {},
   "outputs": [
    {
     "data": {
      "text/plain": [
       "array([[0.125, 0.125],\n",
       "       [0.375, 0.375]])"
      ]
     },
     "execution_count": 14,
     "metadata": {},
     "output_type": "execute_result"
    }
   ],
   "source": [
    "def sp_solver(n:int):\n",
    "    if n <=1: return print(\"n must be greater than 1\")\n",
    "\n",
    "    N = n*n\n",
    "    \n",
    "    d0 = 4*np.ones(N)\n",
    "    dp1 = -1*np.ones(n)\n",
    "    dp1[-1] = 0\n",
    "    dp1 = np.tile(dp1, n)\n",
    "    dm1 = -1*np.ones(n)\n",
    "    dm1[-1] = 0\n",
    "    dm1 = np.tile(dm1, n)\n",
    "    dpn = -1*np.ones(N-n)\n",
    "    dmn = -1*np.ones(N-n)\n",
    "    d = [d0, dp1, dm1, dpn, dmn]\n",
    "    offsets = [0, 1, -1, n, -n]\n",
    "    a = diags(d, offsets, dtype=np.int8).toarray()\n",
    "    a_csc = csc_matrix(a)\n",
    "\n",
    "    b = np.zeros(N)\n",
    "    for i in range(n):\n",
    "        b[-i-1] = 1\n",
    "\n",
    "    return splinalg.spsolve(a_csc, b).reshape(n,n)\n",
    "\n",
    "sp_solver(2)"
   ]
  },
  {
   "cell_type": "markdown",
   "metadata": {},
   "source": [
    "Let's measure the performance again with `spsolve()`"
   ]
  },
  {
   "cell_type": "code",
   "execution_count": 101,
   "metadata": {},
   "outputs": [
    {
     "data": {
      "text/plain": [
       "[<matplotlib.lines.Line2D at 0x1b119069160>]"
      ]
     },
     "execution_count": 101,
     "metadata": {},
     "output_type": "execute_result"
    },
    {
     "data": {
      "image/png": "[encoded data removed]",
      "text/plain": [
       "<Figure size 432x288 with 2 Axes>"
      ]
     },
     "metadata": {
      "needs_background": "light"
     },
     "output_type": "display_data"
    }
   ],
   "source": [
    "sp_t = np.zeros(100)\n",
    "for i in range(100):\n",
    "    if i <= 1: continue\n",
    "    time_start = time.time()\n",
    "    solver(i)\n",
    "    time_end = time.time()\n",
    "    sp_t[i] = time_end-time_start\n",
    "plt.figure()\n",
    "ax1 = plt.subplot(2, 1, 1)\n",
    "ax1.plot(range(100),sp_t)\n",
    "ax2 = plt.subplot(2, 1, 2)\n",
    "ax2.loglog(range(100),sp_t)"
   ]
  },
  {
   "cell_type": "code",
   "execution_count": 15,
   "metadata": {},
   "outputs": [
    {
     "data": {
      "text/plain": [
       "[<matplotlib.lines.Line2D at 0x1f48365c2b0>]"
      ]
     },
     "execution_count": 15,
     "metadata": {},
     "output_type": "execute_result"
    },
    {
     "data": {
      "image/png": "[encoded data removed]",
      "text/plain": [
       "<Figure size 432x288 with 1 Axes>"
      ]
     },
     "metadata": {
      "needs_background": "light"
     },
     "output_type": "display_data"
    }
   ],
   "source": [
    "spres = [8, 16, 32, 64, 128]\n",
    "t_spres = np.zeros(len(res))\n",
    "\n",
    "i = 0\n",
    "for r in spres:\n",
    "    time_start = time.time()\n",
    "    sp_solver(r)\n",
    "    time_end = time.time()\n",
    "    t_spres[i] = time_end-time_start\n",
    "    i += 1\n",
    "\n",
    "plt.loglog(spres,t_spres)"
   ]
  },
  {
   "cell_type": "markdown",
   "metadata": {},
   "source": [
    "You got several oreders of speedup if you know the matrix is a sparse matrix."
   ]
  },
  {
   "cell_type": "code",
   "execution_count": 139,
   "metadata": {},
   "outputs": [
    {
     "data": {
      "text/plain": [
       "<matplotlib.contour.QuadContourSet at 0x1b11b319310>"
      ]
     },
     "execution_count": 139,
     "metadata": {},
     "output_type": "execute_result"
    },
    {
     "data": {
      "image/png": "[encoded data removed]",
      "text/plain": [
       "<Figure size 432x288 with 1 Axes>"
      ]
     },
     "metadata": {
      "needs_background": "light"
     },
     "output_type": "display_data"
    }
   ],
   "source": [
    "plt.imshow(sp_solver(100), origin='lower')\n",
    "plt.contour(sp_solver(100), colors='k')"
   ]
  }
 ],
 "metadata": {
  "kernelspec": {
   "display_name": "Python 3.9.6 64-bit",
   "language": "python",
   "name": "python3"
  },
  "language_info": {
   "codemirror_mode": {
    "name": "ipython",
    "version": 3
   },
   "file_extension": ".py",
   "mimetype": "text/x-python",
   "name": "python",
   "nbconvert_exporter": "python",
   "pygments_lexer": "ipython3",
   "version": "3.9.6 (tags/v3.9.6:db3ff76, Jun 28 2021, 15:26:21) [MSC v.1929 64 bit (AMD64)]"
  },
  "orig_nbformat": 4,
  "vscode": {
   "interpreter": {
    "hash": "db466aede5edde01d2bb2b843a93b509a19109f32f5703edec56a69ee32b10ad"
   }
  }
 },
 "nbformat": 4,
 "nbformat_minor": 2
}
